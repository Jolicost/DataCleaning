{
 "cells": [
  {
   "cell_type": "markdown",
   "metadata": {},
   "source": [
    "# <div style=\"width: 100%; clear: both;\">\n",
    "<div style=\"float: left; width: 50%;\">\n",
    "<img src=\"http://www.uoc.edu/portal/_resources/common/imatges/marca_UOC/UOC_Masterbrand.jpg\", align=\"left\">\n",
    "</div>\n",
    "<div style=\"float: right; width: 50%;\">\n",
    "<p style=\"margin: 0; padding-top: 22px; text-align:right;\">M2.951 · Tipologia i cicle de vida de les dades · Pràtica 2</p>\n",
    "<p style=\"margin: 0; text-align:right;\">2020-1 · Master universitari en Ciència de dades (Data science)</p>\n",
    "<p style=\"margin: 0; text-align:right; padding-button: 100px;\"></p>\n",
    "</div>\n",
    "</div>\n",
    "<div style=\"width:100%;\">&nbsp;</div>\n",
    "\n",
    "\n",
    "# Pràctia 2: Neteja i anàlisi de les dades\n",
    "\n",
    "Al llard d'aquesta pràctica aprendrem a identificar les dades rellevants per un projecte analític i a utilitzar les eines d'integració, neteja, validació i anàlisi de les mateixes.\n",
    "\n",
    " - **Càrrega del dataset i exploració**: Dades de clients que han demanat un préstec identificant els que són morosos dels que no. \n",
    " - **Integració i selecció de les dades a analitzar**: Escollir les dades.\n",
    " - **Neteja de les dades**: Identificació i tractament dels zeros i elements buids, així com dels valors extrems.\n",
    " - **Anàlisi de les dades**: selecció de les dades, comprovació de la normalitat i homogeneïtat de la variància. Aplicarem proves estadístiques per comprar els grups de dades.\n",
    " - **Representació dels resultats a partir de taules i gràfiques**"
   ]
  },
  {
   "cell_type": "markdown",
   "metadata": {},
   "source": [
    "<div style=\"background-color: #EDF7FF; border-color: #7C9DBF; border-left: 5px solid #7C9DBF; padding: 0.5em;\">\n",
    "<strong>Nom i cognoms:</strong>\n",
    "</div>"
   ]
  },
  {
   "cell_type": "code",
   "execution_count": 3,
   "metadata": {},
   "outputs": [
    {
     "data": {
      "text/plain": [
       "'\\n- Joan Oliva Costas\\n- Ana Cortés Besolí\\n'"
      ]
     },
     "execution_count": 3,
     "metadata": {},
     "output_type": "execute_result"
    }
   ],
   "source": [
    "'''\n",
    "- Joan Oliva Costas\n",
    "- Ana Cortés Besolí\n",
    "'''"
   ]
  },
  {
   "cell_type": "markdown",
   "metadata": {},
   "source": [
    "Utilitzarem les següents llibreries:"
   ]
  },
  {
   "cell_type": "code",
   "execution_count": 4,
   "metadata": {},
   "outputs": [],
   "source": [
    "import pandas as pd\n",
    "import numpy as np\n",
    "import matplotlib.pyplot as plt\n",
    "from matplotlib.colors import ListedColormap\n",
    "import matplotlib.patches as mpatches\n",
    "\n",
    "# Preprocessat i modelatge KNN\n",
    "\n",
    "# Configuració warnings\n",
    "# ------------------------------------------------------------------------------\n",
    "import warnings\n",
    "warnings.filterwarnings('once')"
   ]
  },
  {
   "cell_type": "markdown",
   "metadata": {},
   "source": [
    "## 1. Càrrega de dades i exploració del dataset \n",
    "\n"
   ]
  },
  {
   "cell_type": "markdown",
   "metadata": {},
   "source": [
    "Per al nostre exercici prendrem 48.597 registres de clients que han demanat préstecs (les podeu trobar en el fitxer `LoanStatsDataset.csv`). \n",
    "\n",
    "Les variables del dataset són un total de 19."
   ]
  },
  {
   "cell_type": "markdown",
   "metadata": {},
   "source": [
    "### Descripció de les variables del nostre fitxer d'entrada"
   ]
  },
  {
   "cell_type": "markdown",
   "metadata": {},
   "source": [
    "Si ens fixem en el nostre _dataset_, aquest conté la següent informació:\n",
    "\n",
    "- **Total Amount Funded**: volum del préstec demanat.\n",
    "- **Loan Length**: duració del préstec expressat en mesos.\n",
    "- **Monthly PAYMENT**: import de la mensualitat a pagar.\n",
    "- **Debt-To-Income Ratio:** relació deute-ingressos, és el rati d’endeutament respecte als ingressos del client.\n",
    "- **Home Ownership:** Aquest camp ens indica si el client és propietari de la casa on viu, si la té hipotecada o si viu de lloguer. Té 5 possibles valors, (Rent -> viu de lloguer, Mortgage -> paga hipoteca a la casa on viu, Own -> és propietària de la casa on viu, Any -> Té alguna propietat, i finalment None -> No té cap propietat).\n",
    "- **Monthly Income:** Ingressos mensuals.\n",
    "- **Approx.Fico Score:** És un número de tres dígits que dóna informació de si un client té risc o no alhora de pagar un préstec.\n",
    "- **Open CREDIT Lines:** Correspon al nombre de préstecs que té en l’actualitat el client.\n",
    "- **Total CREDIT Lines:** Correspon al nombre total de préstecs que ha tingut el client.\n",
    "- **Revolving CREDIT Balance:** És el saldo de crèdit que el client té.\n",
    "- **Revolving Line Utilization:** És el percentatge del saldo de crèdit utilitzat pel client.\n",
    "- **Inquiries in the Last 6 Months:** Nombre de sol·licituds que s’han demanat del client per avaluar el risc per aprovar una sol·licitud, o bé perquè el client ha demanat un altre préstec, hipoteca o augment de línia de crèdit per a les targetes. Com més consultes fetes, vol dir que més vegades ha estat avaluat el risc del client suposadament pq més crèdit ha demanat.\n",
    "- **Accounts Now Delinquent:** Variable que conté els valors 0 o 1 per determinar si el client té comptes morosos en l’actualitat.  0 (no morós) i 1 (morós).\n",
    "- **Delinquencies (Last 2 yrs):** Nombre de vegades que el client ha estat morós els últims 2 anys.\n",
    "- **Months Since Last Delinquency:** mesos des de l’última morositat del client.\n",
    "- **Public Records On File:** són registres que apareixen a l’informe de crèdit degut a problemes de pagament, sentències o gravaments fiscals. Si un client té aquests tipus de registres informen que el client mostra una morositat greu.\n",
    "- **Months Since Last Record:** variable que dóna els nombre de mesos des de l’últim registre públic.\n",
    "- **Employment Length:** Nombre d’anys que el client porta treballant.\n",
    "- **Status:** Variable que indica si el client ha resultat morós o no. \n"
   ]
  },
  {
   "cell_type": "markdown",
   "metadata": {},
   "source": [
    "<div style=\"background-color: #EDF7FF; border-color: #7C9DBF; border-left: 5px solid #7C9DBF; padding: 0.5em;\">\n",
    "<strong>Implementació:</strong> \n",
    "Càrrega el fitxer d'entrada de dades i visualització dels valors i els formats de les dades\n",
    "</div>"
   ]
  },
  {
   "cell_type": "markdown",
   "metadata": {},
   "source": [
    "<div style=\"background-color: #fcf2f2; border-color: #dfb5b4; border-left: 5px solid #dfb5b4; padding: 0.5em;\">\n",
    "<strong>Solució:</strong>\n",
    "</div>"
   ]
  },
  {
   "cell_type": "code",
   "execution_count": 5,
   "metadata": {},
   "outputs": [
    {
     "name": "stderr",
     "output_type": "stream",
     "text": [
      "c:\\users\\joan\\appdata\\local\\programs\\python\\python37\\lib\\site-packages\\ipykernel\\ipkernel.py:287: DeprecationWarning: `should_run_async` will not call `transform_cell` automatically in the future. Please pass the result to `transformed_cell` argument and any exception that happen during thetransform in `preprocessing_exc_tuple` in IPython 7.17 and above.\n",
      "  and should_run_async(code)\n"
     ]
    },
    {
     "name": "stdout",
     "output_type": "stream",
     "text": [
      "5 primeres files del dataset: \n",
      "    Total Amount Funded Loan Length  Monthly PAYMENT  Debt-To-Income Ratio  \\\n",
      "0                  500   36 months            15.67                  0.00   \n",
      "1                  500   36 months            15.69                  4.27   \n",
      "2                  500   36 months            15.75                 14.02   \n",
      "3                  500   36 months            15.76                  2.15   \n",
      "4                  500   36 months            15.91                  0.00   \n",
      "\n",
      "  Home Ownership  Monthly Income  Approx. Fico Score  Open CREDIT Lines  \\\n",
      "0           RENT          275.00               732.0                3.0   \n",
      "1           RENT         1500.00               732.0                4.0   \n",
      "2            ANY         8333.33               732.0                4.0   \n",
      "3           RENT         2750.00               732.0                6.0   \n",
      "4           RENT          166.67               695.0                2.0   \n",
      "\n",
      "   Total CREDIT Lines  Revolving CREDIT Balance  Revolving Line Utilization  \\\n",
      "0                 3.0                       0.0                         0.0   \n",
      "1                 4.0                       0.0                         0.0   \n",
      "2                 6.0                      56.0                         5.6   \n",
      "3                 6.0                    3461.0                        18.6   \n",
      "4                 2.0                       0.0                         0.0   \n",
      "\n",
      "   Inquiries in the Last 6 Months  Accounts Now Delinquent  \\\n",
      "0                             0.0                      0.0   \n",
      "1                             0.0                      0.0   \n",
      "2                             1.0                      0.0   \n",
      "3                            10.0                      0.0   \n",
      "4                             6.0                      0.0   \n",
      "\n",
      "   Delinquencies (Last 2 yrs)  Months Since Last Delinquency  \\\n",
      "0                         0.0                            NaN   \n",
      "1                         0.0                            0.0   \n",
      "2                         0.0                            NaN   \n",
      "3                         0.0                            0.0   \n",
      "4                         0.0                            0.0   \n",
      "\n",
      "   Public Records On File  Months Since Last Record  Employment Length  \\\n",
      "0                     0.0                       NaN                1.0   \n",
      "1                     0.0                       0.0                0.0   \n",
      "2                     0.0                       NaN                1.0   \n",
      "3                     0.0                       0.0                2.0   \n",
      "4                     0.0                       0.0                0.0   \n",
      "\n",
      "           Status  \n",
      "0  Not Delinquent  \n",
      "1  Not Delinquent  \n",
      "2  Not Delinquent  \n",
      "3  Not Delinquent  \n",
      "4      Delinquent  \n",
      "<class 'pandas.core.frame.DataFrame'>\n",
      "RangeIndex: 48599 entries, 0 to 48598\n",
      "Data columns (total 19 columns):\n",
      " #   Column                          Non-Null Count  Dtype  \n",
      "---  ------                          --------------  -----  \n",
      " 0   Total Amount Funded             48599 non-null  int64  \n",
      " 1   Loan Length                     48599 non-null  object \n",
      " 2   Monthly PAYMENT                 48599 non-null  float64\n",
      " 3   Debt-To-Income Ratio            48599 non-null  float64\n",
      " 4   Home Ownership                  48599 non-null  object \n",
      " 5   Monthly Income                  48599 non-null  float64\n",
      " 6   Approx. Fico Score              48582 non-null  float64\n",
      " 7   Open CREDIT Lines               48570 non-null  float64\n",
      " 8   Total CREDIT Lines              48570 non-null  float64\n",
      " 9   Revolving CREDIT Balance        48570 non-null  float64\n",
      " 10  Revolving Line Utilization      48498 non-null  float64\n",
      " 11  Inquiries in the Last 6 Months  48570 non-null  float64\n",
      " 12  Accounts Now Delinquent         48570 non-null  float64\n",
      " 13  Delinquencies (Last 2 yrs)      48570 non-null  float64\n",
      " 14  Months Since Last Delinquency   17443 non-null  float64\n",
      " 15  Public Records On File          48570 non-null  float64\n",
      " 16  Months Since Last Record        3826 non-null   float64\n",
      " 17  Employment Length               47267 non-null  float64\n",
      " 18  Status                          48599 non-null  object \n",
      "dtypes: float64(15), int64(1), object(3)\n",
      "memory usage: 7.0+ MB\n",
      "Informació del dataset: \n",
      " None\n",
      "Claus del dataset: \n",
      " Index(['Total Amount Funded', 'Loan Length', 'Monthly PAYMENT',\n",
      "       'Debt-To-Income Ratio', 'Home Ownership', 'Monthly Income',\n",
      "       'Approx. Fico Score', 'Open CREDIT Lines', 'Total CREDIT Lines',\n",
      "       'Revolving CREDIT Balance', 'Revolving Line Utilization',\n",
      "       'Inquiries in the Last 6 Months', 'Accounts Now Delinquent',\n",
      "       'Delinquencies (Last 2 yrs)', 'Months Since Last Delinquency',\n",
      "       'Public Records On File', 'Months Since Last Record',\n",
      "       'Employment Length', 'Status'],\n",
      "      dtype='object')\n",
      "Estadístics bàsics del dataset: \n",
      "        Total Amount Funded  Monthly PAYMENT  Debt-To-Income Ratio  \\\n",
      "count         48599.000000     48599.000000          48599.000000   \n",
      "mean          11178.381757       334.852678             13.396254   \n",
      "std            7355.086203       216.699645              6.661092   \n",
      "min             500.000000        15.670000              0.000000   \n",
      "25%            5500.000000       170.690000              8.320000   \n",
      "50%           10000.000000       291.140000             13.490000   \n",
      "75%           15000.000000       449.320000             18.630000   \n",
      "max           35000.000000      1337.760000             29.990000   \n",
      "\n",
      "       Monthly Income  Approx. Fico Score  Open CREDIT Lines  \\\n",
      "count    48599.000000        48582.000000       48570.000000   \n",
      "mean      5806.618670          715.748137           9.379741   \n",
      "std       5544.183662           35.984118           4.445182   \n",
      "min         -0.080000          650.000000           1.000000   \n",
      "25%       3375.000000          695.000000           6.000000   \n",
      "50%       4916.670000          695.000000           9.000000   \n",
      "75%       6916.335000          732.000000          12.000000   \n",
      "max     500000.000000          790.000000          47.000000   \n",
      "\n",
      "       Total CREDIT Lines  Revolving CREDIT Balance  \\\n",
      "count        48570.000000              4.857000e+04   \n",
      "mean            22.121021              1.435322e+04   \n",
      "std             11.459323              2.113321e+04   \n",
      "min              1.000000              0.000000e+00   \n",
      "25%             14.000000              3.949250e+03   \n",
      "50%             20.000000              9.253000e+03   \n",
      "75%             29.000000              1.753575e+04   \n",
      "max             90.000000              1.207359e+06   \n",
      "\n",
      "       Revolving Line Utilization  Inquiries in the Last 6 Months  \\\n",
      "count                48498.000000                    48570.000000   \n",
      "mean                    50.108505                        1.051822   \n",
      "std                     28.156790                        1.474013   \n",
      "min                      0.000000                        0.000000   \n",
      "25%                     27.100000                        0.000000   \n",
      "50%                     51.300000                        1.000000   \n",
      "75%                     73.500000                        2.000000   \n",
      "max                    119.000000                       33.000000   \n",
      "\n",
      "       Accounts Now Delinquent  Delinquencies (Last 2 yrs)  \\\n",
      "count             48570.000000                48570.000000   \n",
      "mean                  0.000082                    0.147601   \n",
      "std                   0.009075                    0.503296   \n",
      "min                   0.000000                    0.000000   \n",
      "25%                   0.000000                    0.000000   \n",
      "50%                   0.000000                    0.000000   \n",
      "75%                   0.000000                    0.000000   \n",
      "max                   1.000000                   13.000000   \n",
      "\n",
      "       Months Since Last Delinquency  Public Records On File  \\\n",
      "count                   17443.000000            48570.000000   \n",
      "mean                       35.414321                0.054602   \n",
      "std                        22.330053                0.238262   \n",
      "min                         0.000000                0.000000   \n",
      "25%                        17.000000                0.000000   \n",
      "50%                        33.000000                0.000000   \n",
      "75%                        52.000000                0.000000   \n",
      "max                       120.000000                5.000000   \n",
      "\n",
      "       Months Since Last Record  Employment Length  \n",
      "count               3826.000000       47267.000000  \n",
      "mean                  60.824621           4.982927  \n",
      "std                   46.871353           3.568941  \n",
      "min                    0.000000           0.000000  \n",
      "25%                    0.000000           2.000000  \n",
      "50%                   86.000000           4.000000  \n",
      "75%                  102.000000           9.000000  \n",
      "max                  129.000000          10.000000  \n"
     ]
    }
   ],
   "source": [
    "#Carreguem les dades en un dataset i visualitzem part del seus valors\n",
    "df = pd.read_csv('LoanStatsDataset.csv', sep=',')\n",
    "print(\"5 primeres files del dataset: \\n\", df.head())\n",
    "\n",
    "#Mostrem la informació del dataset\n",
    "print(\"Informació del dataset: \\n\", df.info())\n",
    "\n",
    "#Explorem les \"columnes\" del dataset\n",
    "print(\"Claus del dataset: \\n\", df.keys())\n",
    "\n",
    "#Veiem un resum estadístic del dataset\n",
    "print(\"Estadístics bàsics del dataset: \\n\", df.describe())"
   ]
  },
  {
   "cell_type": "code",
   "execution_count": 6,
   "metadata": {
    "scrolled": true
   },
   "outputs": [
    {
     "name": "stdout",
     "output_type": "stream",
     "text": [
      "<class 'pandas.core.frame.DataFrame'>\n",
      "RangeIndex: 48599 entries, 0 to 48598\n",
      "Data columns (total 19 columns):\n",
      " #   Column                          Non-Null Count  Dtype  \n",
      "---  ------                          --------------  -----  \n",
      " 0   Total Amount Funded             48599 non-null  int64  \n",
      " 1   Loan Length                     48599 non-null  object \n",
      " 2   Monthly PAYMENT                 48599 non-null  float64\n",
      " 3   Debt-To-Income Ratio            48599 non-null  float64\n",
      " 4   Home Ownership                  48599 non-null  object \n",
      " 5   Monthly Income                  48599 non-null  float64\n",
      " 6   Approx. Fico Score              48582 non-null  float64\n",
      " 7   Open CREDIT Lines               48570 non-null  float64\n",
      " 8   Total CREDIT Lines              48570 non-null  float64\n",
      " 9   Revolving CREDIT Balance        48570 non-null  float64\n",
      " 10  Revolving Line Utilization      48498 non-null  float64\n",
      " 11  Inquiries in the Last 6 Months  48570 non-null  float64\n",
      " 12  Accounts Now Delinquent         48570 non-null  float64\n",
      " 13  Delinquencies (Last 2 yrs)      48570 non-null  float64\n",
      " 14  Months Since Last Delinquency   17443 non-null  float64\n",
      " 15  Public Records On File          48570 non-null  float64\n",
      " 16  Months Since Last Record        3826 non-null   float64\n",
      " 17  Employment Length               47267 non-null  float64\n",
      " 18  Status                          48599 non-null  object \n",
      "dtypes: float64(15), int64(1), object(3)\n",
      "memory usage: 7.0+ MB\n",
      "Informació del dataset: \n",
      " None\n"
     ]
    },
    {
     "name": "stderr",
     "output_type": "stream",
     "text": [
      "c:\\users\\joan\\appdata\\local\\programs\\python\\python37\\lib\\site-packages\\ipykernel\\ipkernel.py:287: DeprecationWarning: `should_run_async` will not call `transform_cell` automatically in the future. Please pass the result to `transformed_cell` argument and any exception that happen during thetransform in `preprocessing_exc_tuple` in IPython 7.17 and above.\n",
      "  and should_run_async(code)\n"
     ]
    }
   ],
   "source": [
    "#Hem vist que totes les columnes numèriques les ha posat de tipus sencer i n'hi ha 12 que són sencers.\n",
    "#Convertim a sencers les variables: 'Total Amount Funded' ,'Approx. Fico Score' ,'Open CREDIT Lines' ,'Total CREDIT Lines' ,'Revolving CREDIT Balance' ,'Inquiries in the Last 6 Months' ,'Accounts Now Delinquent' ,'Delinquencies (Last 2 yrs)' ,'Months Since Last Delinquency' ,'Public Records On File' ,'Months Since Last Record' i'Employment Length\n",
    "\n",
    "df['Total Amount Funded'].astype('int')\n",
    "#Mostrem la informació del dataset\n",
    "print(\"Informació del dataset: \\n\", df.info())"
   ]
  }
 ],
 "metadata": {
  "celltoolbar": "Raw Cell Format",
  "kernelspec": {
   "display_name": "Python 3",
   "language": "python",
   "name": "python3"
  },
  "language_info": {
   "codemirror_mode": {
    "name": "ipython",
    "version": 3
   },
   "file_extension": ".py",
   "mimetype": "text/x-python",
   "name": "python",
   "nbconvert_exporter": "python",
   "pygments_lexer": "ipython3",
   "version": "3.7.0"
  }
 },
 "nbformat": 4,
 "nbformat_minor": 2
}
