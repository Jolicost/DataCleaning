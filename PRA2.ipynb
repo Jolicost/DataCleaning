{
 "cells": [
  {
   "cell_type": "markdown",
   "metadata": {},
   "source": [
    "# <div style=\"width: 100%; clear: both;\">\n",
    "<div style=\"float: left; width: 50%;\">\n",
    "<img src=\"http://www.uoc.edu/portal/_resources/common/imatges/marca_UOC/UOC_Masterbrand.jpg\", align=\"left\">\n",
    "</div>\n",
    "<div style=\"float: right; width: 50%;\">\n",
    "<p style=\"margin: 0; padding-top: 22px; text-align:right;\">M2.951 · Tipologia i cicle de vida de les dades · Pràtica 2</p>\n",
    "<p style=\"margin: 0; text-align:right;\">2020-1 · Master universitari en Ciència de dades (Data science)</p>\n",
    "<p style=\"margin: 0; text-align:right; padding-button: 100px;\"></p>\n",
    "</div>\n",
    "</div>\n",
    "<div style=\"width:100%;\">&nbsp;</div>\n",
    "\n",
    "\n",
    "# Pràctia 2: Neteja i anàlisi de les dades\n",
    "\n",
    "Al llard d'aquesta pràctica aprendrem a identificar les dades rellevants per un projecte analític i a utilitzar les eines d'integració, neteja, validació i anàlisi de les mateixes.\n",
    "\n",
    " - **Càrrega del dataset i exploració**: Dades de clients que han demanat un préstec identificant els que són morosos dels que no. \n",
    " - **Integració i selecció de les dades a analitzar**: Escollir les dades.\n",
    " - **Neteja de les dades**: Identificació i tractament dels zeros i elements buids, així com dels valors extrems.\n",
    " - **Anàlisi de les dades**: selecció de les dades, comprovació de la normalitat i homogeneïtat de la variància. Aplicarem proves estadístiques per comprar els grups de dades.\n",
    " - **Representació dels resultats a partir de taules i gràfiques**"
   ]
  },
  {
   "cell_type": "markdown",
   "metadata": {},
   "source": [
    "<div style=\"background-color: #EDF7FF; border-color: #7C9DBF; border-left: 5px solid #7C9DBF; padding: 0.5em;\">\n",
    "<strong>Nom i cognoms:</strong>\n",
    "</div>"
   ]
  },
  {
   "cell_type": "code",
   "execution_count": 3,
   "metadata": {},
   "outputs": [
    {
     "data": {
      "text/plain": [
       "'\\n- Joan Oliva Costas\\n- Ana Cortés Besolí\\n'"
      ]
     },
     "execution_count": 3,
     "metadata": {},
     "output_type": "execute_result"
    }
   ],
   "source": [
    "'''\n",
    "- Joan Oliva Costas\n",
    "- Ana Cortés Besolí\n",
    "'''"
   ]
  },
  {
   "cell_type": "markdown",
   "metadata": {},
   "source": [
    "Utilitzarem les següents llibreries:"
   ]
  },
  {
   "cell_type": "code",
   "execution_count": null,
   "metadata": {},
   "outputs": [],
   "source": [
    "import pandas as pd\n",
    "import numpy as np\n",
    "import matplotlib.pyplot as plt\n",
    "from matplotlib.colors import ListedColormap\n",
    "import matplotlib.patches as mpatches\n",
    "\n",
    "# Preprocessat i modelatge KNN\n",
    "\n",
    "# Configuració warnings\n",
    "# ------------------------------------------------------------------------------\n",
    "import warnings\n",
    "warnings.filterwarnings('once')"
   ]
  },
  {
   "cell_type": "markdown",
   "metadata": {},
   "source": [
    "## 1. Càrrega de dades i exploració del dataset \n",
    "\n"
   ]
  },
  {
   "cell_type": "markdown",
   "metadata": {},
   "source": [
    "Per al nostre exercici prendrem 48.597 registres de clients que han demanat préstecs (les podeu trobar en el fitxer `LoanStatsDataset.csv`). \n",
    "\n",
    "Les variables del dataset són un total de 19."
   ]
  },
  {
   "cell_type": "markdown",
   "metadata": {},
   "source": [
    "### Descripció de les variables del nostre fitxer d'entrada"
   ]
  },
  {
   "cell_type": "markdown",
   "metadata": {},
   "source": [
    "Si ens fixem en el nostre _dataset_, aquest conté la següent informació:\n",
    "\n",
    "- **Total Amount Funded**: volum del préstec demanat.\n",
    "- **Loan Length**: duració del préstec expressat en mesos.\n",
    "- **Monthly PAYMENT**: import de la mensualitat a pagar.\n",
    "- **Debt-To-Income Ratio:** relació deute-ingressos, és el rati d’endeutament respecte als ingressos del client.\n",
    "- **Home Ownership:** Aquest camp ens indica si el client és propietari de la casa on viu, si la té hipotecada o si viu de lloguer. Té 5 possibles valors, (Rent -> viu de lloguer, Mortgage -> paga hipoteca a la casa on viu, Own -> és propietària de la casa on viu, Any -> Té alguna propietat, i finalment None -> No té cap propietat).\n",
    "- **Monthly Income:** Ingressos mensuals.\n",
    "- **Approx.Fico Score:** És un número de tres dígits que dóna informació de si un client té risc o no alhora de pagar un préstec.\n",
    "- **Open CREDIT Lines:** Correspon al nombre de préstecs que té en l’actualitat el client.\n",
    "- **Total CREDIT Lines:** Correspon al nombre total de préstecs que ha tingut el client.\n",
    "- **Revolving CREDIT Balance:** És el saldo de crèdit que el client té.\n",
    "- **Revolving Line Utilization:** És el percentatge del saldo de crèdit utilitzat pel client.\n",
    "- **Inquiries in the Last 6 Months:** Nombre de sol·licituds que s’han demanat del client per avaluar el risc per aprovar una sol·licitud, o bé perquè el client ha demanat un altre préstec, hipoteca o augment de línia de crèdit per a les targetes. Com més consultes fetes, vol dir que més vegades ha estat avaluat el risc del client suposadament pq més crèdit ha demanat.\n",
    "- **Accounts Now Delinquent:** Variable que conté els valors 0 o 1 per determinar si el client té comptes morosos en l’actualitat.  0 (no morós) i 1 (morós).\n",
    "- **Delinquencies (Last 2 yrs):** Nombre de vegades que el client ha estat morós els últims 2 anys.\n",
    "- **Months Since Last Delinquency:** mesos des de l’última morositat del client.\n",
    "- **Public Records On File:** són registres que apareixen a l’informe de crèdit degut a problemes de pagament, sentències o gravaments fiscals. Si un client té aquests tipus de registres informen que el client mostra una morositat greu.\n",
    "- **Months Since Last Record:** variable que dóna els nombre de mesos des de l’últim registre públic.\n",
    "- **Employment Length:** Nombre d’anys que el client porta treballant.\n",
    "- **Status:** Variable que indica si el client ha resultat morós o no. \n"
   ]
  },
  {
   "cell_type": "markdown",
   "metadata": {},
   "source": [
    "<div style=\"background-color: #EDF7FF; border-color: #7C9DBF; border-left: 5px solid #7C9DBF; padding: 0.5em;\">\n",
    "<strong>Implementació:</strong> \n",
    "Càrrega el fitxer d'entrada de dades i visualització dels valors i els formats de les dades\n",
    "</div>"
   ]
  },
  {
   "cell_type": "markdown",
   "metadata": {},
   "source": [
    "<div style=\"background-color: #fcf2f2; border-color: #dfb5b4; border-left: 5px solid #dfb5b4; padding: 0.5em;\">\n",
    "<strong>Solució:</strong>\n",
    "</div>"
   ]
  },
  {
   "cell_type": "code",
   "execution_count": null,
   "metadata": {},
   "outputs": [],
   "source": [
    "#Carreguem les dades en un dataset i visualitzem part del seus valors\n",
    "df = pd.read_csv('LoanStatsDataset.csv', sep=',')\n",
    "print(\"5 primeres files del dataset: \\n\", df.head())\n",
    "\n",
    "#Mostrem la informació del dataset\n",
    "print(\"Informació del dataset: \\n\", df.info())\n",
    "\n",
    "#Explorem les \"columnes\" del dataset\n",
    "print(\"Claus del dataset: \\n\", df.keys())\n",
    "\n",
    "#Veiem un resum estadístic del dataset\n",
    "print(\"Estadístics bàsics del dataset: \\n\", df.describe())"
   ]
  },
  {
   "cell_type": "code",
   "execution_count": null,
   "metadata": {
    "scrolled": true
   },
   "outputs": [],
   "source": [
    "#Hem vist que totes les columnes numèriques les ha posat de tipus sencer i n'hi ha 12 que són sencers.\n",
    "#Convertim a sencers les variables: 'Total Amount Funded' ,'Approx. Fico Score' ,'Open CREDIT Lines' ,'Total CREDIT Lines' ,'Revolving CREDIT Balance' ,'Inquiries in the Last 6 Months' ,'Accounts Now Delinquent' ,'Delinquencies (Last 2 yrs)' ,'Months Since Last Delinquency' ,'Public Records On File' ,'Months Since Last Record' i'Employment Length\n",
    "\n",
    "df['Total Amount Funded'].astype('int')\n",
    "#Mostrem la informació del dataset\n",
    "print(\"Informació del dataset: \\n\", df.info())"
   ]
  }
 ],
 "metadata": {
  "celltoolbar": "Raw Cell Format",
  "kernelspec": {
   "display_name": "Python 3",
   "language": "python",
   "name": "python3"
  },
  "language_info": {
   "codemirror_mode": {
    "name": "ipython",
    "version": 3
   },
   "file_extension": ".py",
   "mimetype": "text/x-python",
   "name": "python",
   "nbconvert_exporter": "python",
   "pygments_lexer": "ipython3",
   "version": "3.7.0"
  }
 },
 "nbformat": 4,
 "nbformat_minor": 2
}
